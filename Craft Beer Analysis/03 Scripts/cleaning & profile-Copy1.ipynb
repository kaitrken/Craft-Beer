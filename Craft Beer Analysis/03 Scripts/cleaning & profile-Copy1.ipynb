{
 "cells": [
  {
   "cell_type": "markdown",
   "id": "c574a3be-c153-4861-930e-3bb6d0e78e49",
   "metadata": {},
   "source": [
    "### Contents\n",
    "\n",
    "Import Data\n",
    "\n",
    "Merge Dataframes\n",
    "\n",
    "Remove Columns\n",
    "\n",
    "Missing Values\n",
    "\n",
    "Duplicate Data\n",
    "\n",
    "Unexpected/Outlier Data\n",
    "\n",
    "Export Data"
   ]
  },
  {
   "cell_type": "markdown",
   "id": "5dfbaa3f-8b6c-40a7-a0fa-937340909044",
   "metadata": {},
   "source": [
    "### Import Data"
   ]
  },
  {
   "cell_type": "code",
   "execution_count": 1,
   "id": "a48310e4-be52-4bd0-8522-fe881d82f894",
   "metadata": {},
   "outputs": [],
   "source": [
    "# import libraries\n",
    "import pandas as pd\n",
    "import numpy as np\n",
    "import os"
   ]
  },
  {
   "cell_type": "code",
   "execution_count": 2,
   "id": "159639eb-dfc1-4aed-8605-7a6a025350d5",
   "metadata": {},
   "outputs": [],
   "source": [
    "# create path\n",
    "path = r'/Users/kaitlinkendrick/Documents/Data Analysis/Craft Beer Analysis'"
   ]
  },
  {
   "cell_type": "code",
   "execution_count": 3,
   "id": "603d847c-0bb9-4505-b661-2ff8cec09aba",
   "metadata": {},
   "outputs": [],
   "source": [
    "# import dataframe\n",
    "products = pd.read_csv(os.path.join(path, '02 Data', 'Original Data', 'Product_range.csv'), index_col = False)"
   ]
  },
  {
   "cell_type": "code",
   "execution_count": 4,
   "id": "11175df8-c2d1-4c4c-9a74-f155e1ceba24",
   "metadata": {},
   "outputs": [],
   "source": [
    "transactions = pd.read_csv(os.path.join(path, '02 Data', 'Original Data', 'Transactions.csv'), index_col = False)"
   ]
  },
  {
   "cell_type": "code",
   "execution_count": 5,
   "id": "55a234af-bb13-4f48-a836-655572aab44a",
   "metadata": {},
   "outputs": [
    {
     "data": {
      "text/plain": [
       "(5314, 8)"
      ]
     },
     "execution_count": 5,
     "metadata": {},
     "output_type": "execute_result"
    }
   ],
   "source": [
    "products.shape"
   ]
  },
  {
   "cell_type": "code",
   "execution_count": 6,
   "id": "780494cb-4a9d-4f0b-9951-5d8ec873f484",
   "metadata": {},
   "outputs": [
    {
     "data": {
      "text/plain": [
       "(50084, 8)"
      ]
     },
     "execution_count": 6,
     "metadata": {},
     "output_type": "execute_result"
    }
   ],
   "source": [
    "transactions.shape"
   ]
  },
  {
   "cell_type": "code",
   "execution_count": 7,
   "id": "77a73ae8-9223-472c-b4bd-b86f46caa7bb",
   "metadata": {},
   "outputs": [
    {
     "data": {
      "text/plain": [
       "Index(['Product_code', 'Vendor_code', 'Name', 'Retail_price', 'Base_unit',\n",
       "       'Country_of_Origin', 'Size', 'ABV'],\n",
       "      dtype='object')"
      ]
     },
     "execution_count": 7,
     "metadata": {},
     "output_type": "execute_result"
    }
   ],
   "source": [
    "products.columns"
   ]
  },
  {
   "cell_type": "code",
   "execution_count": 8,
   "id": "21bbada6-34bc-4d67-9f6d-ebcef0d35c73",
   "metadata": {},
   "outputs": [
    {
     "data": {
      "text/plain": [
       "Index(['Date_and_time_of_unloading', 'Product_code', 'Amount', 'Sale_amount',\n",
       "       'Discount_amount', 'Profit', 'Percentage_markup',\n",
       "       'Discount_percentage'],\n",
       "      dtype='object')"
      ]
     },
     "execution_count": 8,
     "metadata": {},
     "output_type": "execute_result"
    }
   ],
   "source": [
    "transactions.columns"
   ]
  },
  {
   "cell_type": "markdown",
   "id": "2f97ae7f-78f8-4cc6-9f9c-74940bf1d424",
   "metadata": {},
   "source": [
    "### Merge Dataframes"
   ]
  },
  {
   "cell_type": "code",
   "execution_count": 9,
   "id": "84a699d1-f387-4f2d-bf94-b938b8dc6dcd",
   "metadata": {},
   "outputs": [],
   "source": [
    "products_merged = products.merge(transactions, on = 'Product_code', how = 'outer')\n",
    "# I chose an outer join due to the fact that I'm interested in the products more than the transactions and want to ensure all the data is there"
   ]
  },
  {
   "cell_type": "code",
   "execution_count": 10,
   "id": "18c142ce-ff5b-4c16-b9fe-e6f40a47b0e1",
   "metadata": {},
   "outputs": [
    {
     "data": {
      "text/plain": [
       "(51442, 15)"
      ]
     },
     "execution_count": 10,
     "metadata": {},
     "output_type": "execute_result"
    }
   ],
   "source": [
    "products_merged.shape"
   ]
  },
  {
   "cell_type": "code",
   "execution_count": 11,
   "id": "53317cfc-d06d-4f61-93ae-1b118924ab31",
   "metadata": {},
   "outputs": [
    {
     "data": {
      "text/plain": [
       "Index(['Product_code', 'Vendor_code', 'Name', 'Retail_price', 'Base_unit',\n",
       "       'Country_of_Origin', 'Size', 'ABV', 'Date_and_time_of_unloading',\n",
       "       'Amount', 'Sale_amount', 'Discount_amount', 'Profit',\n",
       "       'Percentage_markup', 'Discount_percentage'],\n",
       "      dtype='object')"
      ]
     },
     "execution_count": 11,
     "metadata": {},
     "output_type": "execute_result"
    }
   ],
   "source": [
    "products_merged.columns"
   ]
  },
  {
   "cell_type": "code",
   "execution_count": 12,
   "id": "06622d11-cfcc-48bf-961a-e4017e30faf8",
   "metadata": {},
   "outputs": [
    {
     "data": {
      "text/html": [
       "<div>\n",
       "<style scoped>\n",
       "    .dataframe tbody tr th:only-of-type {\n",
       "        vertical-align: middle;\n",
       "    }\n",
       "\n",
       "    .dataframe tbody tr th {\n",
       "        vertical-align: top;\n",
       "    }\n",
       "\n",
       "    .dataframe thead th {\n",
       "        text-align: right;\n",
       "    }\n",
       "</style>\n",
       "<table border=\"1\" class=\"dataframe\">\n",
       "  <thead>\n",
       "    <tr style=\"text-align: right;\">\n",
       "      <th></th>\n",
       "      <th>Product_code</th>\n",
       "      <th>Vendor_code</th>\n",
       "      <th>Name</th>\n",
       "      <th>Retail_price</th>\n",
       "      <th>Base_unit</th>\n",
       "      <th>Country_of_Origin</th>\n",
       "      <th>Size</th>\n",
       "      <th>ABV</th>\n",
       "      <th>Date_and_time_of_unloading</th>\n",
       "      <th>Amount</th>\n",
       "      <th>Sale_amount</th>\n",
       "      <th>Discount_amount</th>\n",
       "      <th>Profit</th>\n",
       "      <th>Percentage_markup</th>\n",
       "      <th>Discount_percentage</th>\n",
       "    </tr>\n",
       "  </thead>\n",
       "  <tbody>\n",
       "    <tr>\n",
       "      <th>0</th>\n",
       "      <td>5028</td>\n",
       "      <td>NaN</td>\n",
       "      <td>1 Symbiotica Apple 0.375</td>\n",
       "      <td>300.0</td>\n",
       "      <td>Pieces</td>\n",
       "      <td>Russia</td>\n",
       "      <td>0.375</td>\n",
       "      <td>4.5</td>\n",
       "      <td>2022-07-03 00:00:00</td>\n",
       "      <td>2.0</td>\n",
       "      <td>420.00</td>\n",
       "      <td>180.00</td>\n",
       "      <td>140.00</td>\n",
       "      <td>50.00</td>\n",
       "      <td>30.00</td>\n",
       "    </tr>\n",
       "    <tr>\n",
       "      <th>1</th>\n",
       "      <td>5028</td>\n",
       "      <td>NaN</td>\n",
       "      <td>1 Symbiotica Apple 0.375</td>\n",
       "      <td>300.0</td>\n",
       "      <td>Pieces</td>\n",
       "      <td>Russia</td>\n",
       "      <td>0.375</td>\n",
       "      <td>4.5</td>\n",
       "      <td>2022-07-09 13:00:00</td>\n",
       "      <td>4.0</td>\n",
       "      <td>960.00</td>\n",
       "      <td>240.00</td>\n",
       "      <td>400.00</td>\n",
       "      <td>71.43</td>\n",
       "      <td>20.00</td>\n",
       "    </tr>\n",
       "    <tr>\n",
       "      <th>2</th>\n",
       "      <td>5028</td>\n",
       "      <td>NaN</td>\n",
       "      <td>1 Symbiotica Apple 0.375</td>\n",
       "      <td>300.0</td>\n",
       "      <td>Pieces</td>\n",
       "      <td>Russia</td>\n",
       "      <td>0.375</td>\n",
       "      <td>4.5</td>\n",
       "      <td>2022-07-19 20:00:00</td>\n",
       "      <td>5.0</td>\n",
       "      <td>1440.00</td>\n",
       "      <td>60.00</td>\n",
       "      <td>740.00</td>\n",
       "      <td>105.71</td>\n",
       "      <td>4.00</td>\n",
       "    </tr>\n",
       "    <tr>\n",
       "      <th>3</th>\n",
       "      <td>4846</td>\n",
       "      <td>NaN</td>\n",
       "      <td>1 Symbiotica Hard Kombucha Renegade Aronia 0.33</td>\n",
       "      <td>200.0</td>\n",
       "      <td>Pieces</td>\n",
       "      <td>Russia</td>\n",
       "      <td>0.330</td>\n",
       "      <td>3.0</td>\n",
       "      <td>2022-03-20 17:00:00</td>\n",
       "      <td>4.0</td>\n",
       "      <td>412.23</td>\n",
       "      <td>277.77</td>\n",
       "      <td>52.23</td>\n",
       "      <td>14.51</td>\n",
       "      <td>40.26</td>\n",
       "    </tr>\n",
       "    <tr>\n",
       "      <th>4</th>\n",
       "      <td>4846</td>\n",
       "      <td>NaN</td>\n",
       "      <td>1 Symbiotica Hard Kombucha Renegade Aronia 0.33</td>\n",
       "      <td>200.0</td>\n",
       "      <td>Pieces</td>\n",
       "      <td>Russia</td>\n",
       "      <td>0.330</td>\n",
       "      <td>3.0</td>\n",
       "      <td>2022-03-23 17:00:00</td>\n",
       "      <td>2.0</td>\n",
       "      <td>360.00</td>\n",
       "      <td>40.00</td>\n",
       "      <td>180.00</td>\n",
       "      <td>100.00</td>\n",
       "      <td>10.00</td>\n",
       "    </tr>\n",
       "    <tr>\n",
       "      <th>5</th>\n",
       "      <td>4846</td>\n",
       "      <td>NaN</td>\n",
       "      <td>1 Symbiotica Hard Kombucha Renegade Aronia 0.33</td>\n",
       "      <td>200.0</td>\n",
       "      <td>Pieces</td>\n",
       "      <td>Russia</td>\n",
       "      <td>0.330</td>\n",
       "      <td>3.0</td>\n",
       "      <td>2022-03-27 17:00:00</td>\n",
       "      <td>2.0</td>\n",
       "      <td>319.73</td>\n",
       "      <td>80.27</td>\n",
       "      <td>139.73</td>\n",
       "      <td>77.63</td>\n",
       "      <td>20.07</td>\n",
       "    </tr>\n",
       "    <tr>\n",
       "      <th>6</th>\n",
       "      <td>4846</td>\n",
       "      <td>NaN</td>\n",
       "      <td>1 Symbiotica Hard Kombucha Renegade Aronia 0.33</td>\n",
       "      <td>200.0</td>\n",
       "      <td>Pieces</td>\n",
       "      <td>Russia</td>\n",
       "      <td>0.330</td>\n",
       "      <td>3.0</td>\n",
       "      <td>2022-05-06 00:00:00</td>\n",
       "      <td>2.0</td>\n",
       "      <td>316.66</td>\n",
       "      <td>83.34</td>\n",
       "      <td>136.66</td>\n",
       "      <td>75.92</td>\n",
       "      <td>20.84</td>\n",
       "    </tr>\n",
       "    <tr>\n",
       "      <th>7</th>\n",
       "      <td>4846</td>\n",
       "      <td>NaN</td>\n",
       "      <td>1 Symbiotica Hard Kombucha Renegade Aronia 0.33</td>\n",
       "      <td>200.0</td>\n",
       "      <td>Pieces</td>\n",
       "      <td>Russia</td>\n",
       "      <td>0.330</td>\n",
       "      <td>3.0</td>\n",
       "      <td>2022-05-09 19:00:00</td>\n",
       "      <td>1.0</td>\n",
       "      <td>159.71</td>\n",
       "      <td>40.29</td>\n",
       "      <td>69.71</td>\n",
       "      <td>77.46</td>\n",
       "      <td>20.15</td>\n",
       "    </tr>\n",
       "    <tr>\n",
       "      <th>8</th>\n",
       "      <td>4846</td>\n",
       "      <td>NaN</td>\n",
       "      <td>1 Symbiotica Hard Kombucha Renegade Aronia 0.33</td>\n",
       "      <td>200.0</td>\n",
       "      <td>Pieces</td>\n",
       "      <td>Russia</td>\n",
       "      <td>0.330</td>\n",
       "      <td>3.0</td>\n",
       "      <td>2022-05-21 18:00:00</td>\n",
       "      <td>2.0</td>\n",
       "      <td>320.00</td>\n",
       "      <td>80.00</td>\n",
       "      <td>140.00</td>\n",
       "      <td>77.78</td>\n",
       "      <td>20.00</td>\n",
       "    </tr>\n",
       "    <tr>\n",
       "      <th>9</th>\n",
       "      <td>4846</td>\n",
       "      <td>NaN</td>\n",
       "      <td>1 Symbiotica Hard Kombucha Renegade Aronia 0.33</td>\n",
       "      <td>200.0</td>\n",
       "      <td>Pieces</td>\n",
       "      <td>Russia</td>\n",
       "      <td>0.330</td>\n",
       "      <td>3.0</td>\n",
       "      <td>2022-05-26 18:00:00</td>\n",
       "      <td>1.0</td>\n",
       "      <td>160.00</td>\n",
       "      <td>40.00</td>\n",
       "      <td>70.00</td>\n",
       "      <td>77.78</td>\n",
       "      <td>20.00</td>\n",
       "    </tr>\n",
       "  </tbody>\n",
       "</table>\n",
       "</div>"
      ],
      "text/plain": [
       "   Product_code Vendor_code                                             Name  \\\n",
       "0          5028         NaN                         1 Symbiotica Apple 0.375   \n",
       "1          5028         NaN                         1 Symbiotica Apple 0.375   \n",
       "2          5028         NaN                         1 Symbiotica Apple 0.375   \n",
       "3          4846         NaN  1 Symbiotica Hard Kombucha Renegade Aronia 0.33   \n",
       "4          4846         NaN  1 Symbiotica Hard Kombucha Renegade Aronia 0.33   \n",
       "5          4846         NaN  1 Symbiotica Hard Kombucha Renegade Aronia 0.33   \n",
       "6          4846         NaN  1 Symbiotica Hard Kombucha Renegade Aronia 0.33   \n",
       "7          4846         NaN  1 Symbiotica Hard Kombucha Renegade Aronia 0.33   \n",
       "8          4846         NaN  1 Symbiotica Hard Kombucha Renegade Aronia 0.33   \n",
       "9          4846         NaN  1 Symbiotica Hard Kombucha Renegade Aronia 0.33   \n",
       "\n",
       "   Retail_price Base_unit Country_of_Origin   Size  ABV  \\\n",
       "0         300.0    Pieces            Russia  0.375  4.5   \n",
       "1         300.0    Pieces            Russia  0.375  4.5   \n",
       "2         300.0    Pieces            Russia  0.375  4.5   \n",
       "3         200.0    Pieces            Russia  0.330  3.0   \n",
       "4         200.0    Pieces            Russia  0.330  3.0   \n",
       "5         200.0    Pieces            Russia  0.330  3.0   \n",
       "6         200.0    Pieces            Russia  0.330  3.0   \n",
       "7         200.0    Pieces            Russia  0.330  3.0   \n",
       "8         200.0    Pieces            Russia  0.330  3.0   \n",
       "9         200.0    Pieces            Russia  0.330  3.0   \n",
       "\n",
       "  Date_and_time_of_unloading  Amount  Sale_amount  Discount_amount  Profit  \\\n",
       "0        2022-07-03 00:00:00     2.0       420.00           180.00  140.00   \n",
       "1        2022-07-09 13:00:00     4.0       960.00           240.00  400.00   \n",
       "2        2022-07-19 20:00:00     5.0      1440.00            60.00  740.00   \n",
       "3        2022-03-20 17:00:00     4.0       412.23           277.77   52.23   \n",
       "4        2022-03-23 17:00:00     2.0       360.00            40.00  180.00   \n",
       "5        2022-03-27 17:00:00     2.0       319.73            80.27  139.73   \n",
       "6        2022-05-06 00:00:00     2.0       316.66            83.34  136.66   \n",
       "7        2022-05-09 19:00:00     1.0       159.71            40.29   69.71   \n",
       "8        2022-05-21 18:00:00     2.0       320.00            80.00  140.00   \n",
       "9        2022-05-26 18:00:00     1.0       160.00            40.00   70.00   \n",
       "\n",
       "   Percentage_markup  Discount_percentage  \n",
       "0              50.00                30.00  \n",
       "1              71.43                20.00  \n",
       "2             105.71                 4.00  \n",
       "3              14.51                40.26  \n",
       "4             100.00                10.00  \n",
       "5              77.63                20.07  \n",
       "6              75.92                20.84  \n",
       "7              77.46                20.15  \n",
       "8              77.78                20.00  \n",
       "9              77.78                20.00  "
      ]
     },
     "execution_count": 12,
     "metadata": {},
     "output_type": "execute_result"
    }
   ],
   "source": [
    "products_merged.head(10)"
   ]
  },
  {
   "cell_type": "code",
   "execution_count": 13,
   "id": "74f45aba-53fd-4d34-a73e-a0ad34deee4c",
   "metadata": {},
   "outputs": [
    {
     "data": {
      "text/html": [
       "<div>\n",
       "<style scoped>\n",
       "    .dataframe tbody tr th:only-of-type {\n",
       "        vertical-align: middle;\n",
       "    }\n",
       "\n",
       "    .dataframe tbody tr th {\n",
       "        vertical-align: top;\n",
       "    }\n",
       "\n",
       "    .dataframe thead th {\n",
       "        text-align: right;\n",
       "    }\n",
       "</style>\n",
       "<table border=\"1\" class=\"dataframe\">\n",
       "  <thead>\n",
       "    <tr style=\"text-align: right;\">\n",
       "      <th></th>\n",
       "      <th>Product_code</th>\n",
       "      <th>Vendor_code</th>\n",
       "      <th>Name</th>\n",
       "      <th>Retail_price</th>\n",
       "      <th>Base_unit</th>\n",
       "      <th>Country_of_Origin</th>\n",
       "      <th>Size</th>\n",
       "      <th>ABV</th>\n",
       "      <th>Date_and_time_of_unloading</th>\n",
       "      <th>Amount</th>\n",
       "      <th>Sale_amount</th>\n",
       "      <th>Discount_amount</th>\n",
       "      <th>Profit</th>\n",
       "      <th>Percentage_markup</th>\n",
       "      <th>Discount_percentage</th>\n",
       "    </tr>\n",
       "  </thead>\n",
       "  <tbody>\n",
       "    <tr>\n",
       "      <th>51437</th>\n",
       "      <td>4724</td>\n",
       "      <td>NaN</td>\n",
       "      <td>Semjuel Adams Boston Lager Barrel</td>\n",
       "      <td>720.0</td>\n",
       "      <td>Liters</td>\n",
       "      <td>NaN</td>\n",
       "      <td>1.0</td>\n",
       "      <td>4.8</td>\n",
       "      <td>2022-02-26 20:00:00</td>\n",
       "      <td>10.25</td>\n",
       "      <td>7040.55</td>\n",
       "      <td>339.45</td>\n",
       "      <td>3637.55</td>\n",
       "      <td>106.89</td>\n",
       "      <td>4.60</td>\n",
       "    </tr>\n",
       "    <tr>\n",
       "      <th>51438</th>\n",
       "      <td>4724</td>\n",
       "      <td>NaN</td>\n",
       "      <td>Semjuel Adams Boston Lager Barrel</td>\n",
       "      <td>720.0</td>\n",
       "      <td>Liters</td>\n",
       "      <td>NaN</td>\n",
       "      <td>1.0</td>\n",
       "      <td>4.8</td>\n",
       "      <td>2022-03-02 17:00:00</td>\n",
       "      <td>13.25</td>\n",
       "      <td>8854.37</td>\n",
       "      <td>685.63</td>\n",
       "      <td>4455.37</td>\n",
       "      <td>101.28</td>\n",
       "      <td>7.19</td>\n",
       "    </tr>\n",
       "    <tr>\n",
       "      <th>51439</th>\n",
       "      <td>4724</td>\n",
       "      <td>NaN</td>\n",
       "      <td>Semjuel Adams Boston Lager Barrel</td>\n",
       "      <td>720.0</td>\n",
       "      <td>Liters</td>\n",
       "      <td>NaN</td>\n",
       "      <td>1.0</td>\n",
       "      <td>4.8</td>\n",
       "      <td>2022-03-07 18:00:00</td>\n",
       "      <td>1.00</td>\n",
       "      <td>664.91</td>\n",
       "      <td>55.09</td>\n",
       "      <td>332.91</td>\n",
       "      <td>100.27</td>\n",
       "      <td>7.65</td>\n",
       "    </tr>\n",
       "    <tr>\n",
       "      <th>51440</th>\n",
       "      <td>822</td>\n",
       "      <td>Bakunin</td>\n",
       "      <td>Bakunin Urban Juice</td>\n",
       "      <td>600.0</td>\n",
       "      <td>Liters</td>\n",
       "      <td>Russia</td>\n",
       "      <td>1.0</td>\n",
       "      <td>7.2</td>\n",
       "      <td>NaN</td>\n",
       "      <td>NaN</td>\n",
       "      <td>NaN</td>\n",
       "      <td>NaN</td>\n",
       "      <td>NaN</td>\n",
       "      <td>NaN</td>\n",
       "      <td>NaN</td>\n",
       "    </tr>\n",
       "    <tr>\n",
       "      <th>51441</th>\n",
       "      <td>1682</td>\n",
       "      <td>NaN</td>\n",
       "      <td>Hazeljuteli Shoktabulous Barrel l temnoe fil't...</td>\n",
       "      <td>880.0</td>\n",
       "      <td>Liters</td>\n",
       "      <td>NaN</td>\n",
       "      <td>1.0</td>\n",
       "      <td>5.7</td>\n",
       "      <td>NaN</td>\n",
       "      <td>NaN</td>\n",
       "      <td>NaN</td>\n",
       "      <td>NaN</td>\n",
       "      <td>NaN</td>\n",
       "      <td>NaN</td>\n",
       "      <td>NaN</td>\n",
       "    </tr>\n",
       "  </tbody>\n",
       "</table>\n",
       "</div>"
      ],
      "text/plain": [
       "       Product_code Vendor_code  \\\n",
       "51437          4724         NaN   \n",
       "51438          4724         NaN   \n",
       "51439          4724         NaN   \n",
       "51440           822     Bakunin   \n",
       "51441          1682         NaN   \n",
       "\n",
       "                                                    Name  Retail_price  \\\n",
       "51437                  Semjuel Adams Boston Lager Barrel         720.0   \n",
       "51438                  Semjuel Adams Boston Lager Barrel         720.0   \n",
       "51439                  Semjuel Adams Boston Lager Barrel         720.0   \n",
       "51440                                Bakunin Urban Juice         600.0   \n",
       "51441  Hazeljuteli Shoktabulous Barrel l temnoe fil't...         880.0   \n",
       "\n",
       "      Base_unit Country_of_Origin  Size  ABV Date_and_time_of_unloading  \\\n",
       "51437    Liters               NaN   1.0  4.8        2022-02-26 20:00:00   \n",
       "51438    Liters               NaN   1.0  4.8        2022-03-02 17:00:00   \n",
       "51439    Liters               NaN   1.0  4.8        2022-03-07 18:00:00   \n",
       "51440    Liters            Russia   1.0  7.2                        NaN   \n",
       "51441    Liters               NaN   1.0  5.7                        NaN   \n",
       "\n",
       "       Amount  Sale_amount  Discount_amount   Profit  Percentage_markup  \\\n",
       "51437   10.25      7040.55           339.45  3637.55             106.89   \n",
       "51438   13.25      8854.37           685.63  4455.37             101.28   \n",
       "51439    1.00       664.91            55.09   332.91             100.27   \n",
       "51440     NaN          NaN              NaN      NaN                NaN   \n",
       "51441     NaN          NaN              NaN      NaN                NaN   \n",
       "\n",
       "       Discount_percentage  \n",
       "51437                 4.60  \n",
       "51438                 7.19  \n",
       "51439                 7.65  \n",
       "51440                  NaN  \n",
       "51441                  NaN  "
      ]
     },
     "execution_count": 13,
     "metadata": {},
     "output_type": "execute_result"
    }
   ],
   "source": [
    "products_merged.tail()"
   ]
  },
  {
   "cell_type": "markdown",
   "id": "130ec10b-caf2-4e44-86ec-0909f63a5d9a",
   "metadata": {},
   "source": [
    "### Remove Columns"
   ]
  },
  {
   "cell_type": "markdown",
   "id": "eeb89c1c-f728-4562-b00c-eced7973c999",
   "metadata": {},
   "source": [
    "I'm removing the Date_and_time_of_unloading, Percentage_markup, and Discount_percentage columns as they are not relevent to the scope of the project"
   ]
  },
  {
   "cell_type": "code",
   "execution_count": 14,
   "id": "e7c50c71-b9d7-48fe-a209-25e0883aa819",
   "metadata": {},
   "outputs": [],
   "source": [
    "# remove Date_and_time_of_unloading\n",
    "products_merged = products_merged.drop(columns = ['Date_and_time_of_unloading'])"
   ]
  },
  {
   "cell_type": "code",
   "execution_count": 15,
   "id": "e960a974-31a6-4eb2-ad1b-f761dc78697b",
   "metadata": {},
   "outputs": [],
   "source": [
    "# remove Percentage_markup\n",
    "products_merged = products_merged.drop(columns = ['Percentage_markup'])"
   ]
  },
  {
   "cell_type": "code",
   "execution_count": 16,
   "id": "75e66614-ce42-4c82-8bad-db71f0e55baf",
   "metadata": {},
   "outputs": [],
   "source": [
    "# remove Discount_percentage\n",
    "products_merged = products_merged.drop(columns = ['Discount_percentage'])"
   ]
  },
  {
   "cell_type": "code",
   "execution_count": 17,
   "id": "0db5150a-707b-4fff-94bd-fcebade99c52",
   "metadata": {},
   "outputs": [
    {
     "data": {
      "text/html": [
       "<div>\n",
       "<style scoped>\n",
       "    .dataframe tbody tr th:only-of-type {\n",
       "        vertical-align: middle;\n",
       "    }\n",
       "\n",
       "    .dataframe tbody tr th {\n",
       "        vertical-align: top;\n",
       "    }\n",
       "\n",
       "    .dataframe thead th {\n",
       "        text-align: right;\n",
       "    }\n",
       "</style>\n",
       "<table border=\"1\" class=\"dataframe\">\n",
       "  <thead>\n",
       "    <tr style=\"text-align: right;\">\n",
       "      <th></th>\n",
       "      <th>Product_code</th>\n",
       "      <th>Vendor_code</th>\n",
       "      <th>Name</th>\n",
       "      <th>Retail_price</th>\n",
       "      <th>Base_unit</th>\n",
       "      <th>Country_of_Origin</th>\n",
       "      <th>Size</th>\n",
       "      <th>ABV</th>\n",
       "      <th>Amount</th>\n",
       "      <th>Sale_amount</th>\n",
       "      <th>Discount_amount</th>\n",
       "      <th>Profit</th>\n",
       "    </tr>\n",
       "  </thead>\n",
       "  <tbody>\n",
       "    <tr>\n",
       "      <th>0</th>\n",
       "      <td>5028</td>\n",
       "      <td>NaN</td>\n",
       "      <td>1 Symbiotica Apple 0.375</td>\n",
       "      <td>300.0</td>\n",
       "      <td>Pieces</td>\n",
       "      <td>Russia</td>\n",
       "      <td>0.375</td>\n",
       "      <td>4.5</td>\n",
       "      <td>2.0</td>\n",
       "      <td>420.00</td>\n",
       "      <td>180.00</td>\n",
       "      <td>140.00</td>\n",
       "    </tr>\n",
       "    <tr>\n",
       "      <th>1</th>\n",
       "      <td>5028</td>\n",
       "      <td>NaN</td>\n",
       "      <td>1 Symbiotica Apple 0.375</td>\n",
       "      <td>300.0</td>\n",
       "      <td>Pieces</td>\n",
       "      <td>Russia</td>\n",
       "      <td>0.375</td>\n",
       "      <td>4.5</td>\n",
       "      <td>4.0</td>\n",
       "      <td>960.00</td>\n",
       "      <td>240.00</td>\n",
       "      <td>400.00</td>\n",
       "    </tr>\n",
       "    <tr>\n",
       "      <th>2</th>\n",
       "      <td>5028</td>\n",
       "      <td>NaN</td>\n",
       "      <td>1 Symbiotica Apple 0.375</td>\n",
       "      <td>300.0</td>\n",
       "      <td>Pieces</td>\n",
       "      <td>Russia</td>\n",
       "      <td>0.375</td>\n",
       "      <td>4.5</td>\n",
       "      <td>5.0</td>\n",
       "      <td>1440.00</td>\n",
       "      <td>60.00</td>\n",
       "      <td>740.00</td>\n",
       "    </tr>\n",
       "    <tr>\n",
       "      <th>3</th>\n",
       "      <td>4846</td>\n",
       "      <td>NaN</td>\n",
       "      <td>1 Symbiotica Hard Kombucha Renegade Aronia 0.33</td>\n",
       "      <td>200.0</td>\n",
       "      <td>Pieces</td>\n",
       "      <td>Russia</td>\n",
       "      <td>0.330</td>\n",
       "      <td>3.0</td>\n",
       "      <td>4.0</td>\n",
       "      <td>412.23</td>\n",
       "      <td>277.77</td>\n",
       "      <td>52.23</td>\n",
       "    </tr>\n",
       "    <tr>\n",
       "      <th>4</th>\n",
       "      <td>4846</td>\n",
       "      <td>NaN</td>\n",
       "      <td>1 Symbiotica Hard Kombucha Renegade Aronia 0.33</td>\n",
       "      <td>200.0</td>\n",
       "      <td>Pieces</td>\n",
       "      <td>Russia</td>\n",
       "      <td>0.330</td>\n",
       "      <td>3.0</td>\n",
       "      <td>2.0</td>\n",
       "      <td>360.00</td>\n",
       "      <td>40.00</td>\n",
       "      <td>180.00</td>\n",
       "    </tr>\n",
       "  </tbody>\n",
       "</table>\n",
       "</div>"
      ],
      "text/plain": [
       "   Product_code Vendor_code                                             Name  \\\n",
       "0          5028         NaN                         1 Symbiotica Apple 0.375   \n",
       "1          5028         NaN                         1 Symbiotica Apple 0.375   \n",
       "2          5028         NaN                         1 Symbiotica Apple 0.375   \n",
       "3          4846         NaN  1 Symbiotica Hard Kombucha Renegade Aronia 0.33   \n",
       "4          4846         NaN  1 Symbiotica Hard Kombucha Renegade Aronia 0.33   \n",
       "\n",
       "   Retail_price Base_unit Country_of_Origin   Size  ABV  Amount  Sale_amount  \\\n",
       "0         300.0    Pieces            Russia  0.375  4.5     2.0       420.00   \n",
       "1         300.0    Pieces            Russia  0.375  4.5     4.0       960.00   \n",
       "2         300.0    Pieces            Russia  0.375  4.5     5.0      1440.00   \n",
       "3         200.0    Pieces            Russia  0.330  3.0     4.0       412.23   \n",
       "4         200.0    Pieces            Russia  0.330  3.0     2.0       360.00   \n",
       "\n",
       "   Discount_amount  Profit  \n",
       "0           180.00  140.00  \n",
       "1           240.00  400.00  \n",
       "2            60.00  740.00  \n",
       "3           277.77   52.23  \n",
       "4            40.00  180.00  "
      ]
     },
     "execution_count": 17,
     "metadata": {},
     "output_type": "execute_result"
    }
   ],
   "source": [
    "products_merged.head()"
   ]
  },
  {
   "cell_type": "markdown",
   "id": "f772265f-9c34-425d-88be-c469d88d2a68",
   "metadata": {},
   "source": [
    "### Missing Values"
   ]
  },
  {
   "cell_type": "code",
   "execution_count": 18,
   "id": "fca62871-03b2-4af1-8c5c-81911ae6a857",
   "metadata": {},
   "outputs": [
    {
     "data": {
      "text/plain": [
       "Product_code             0\n",
       "Vendor_code           6755\n",
       "Name                     0\n",
       "Retail_price           437\n",
       "Base_unit              404\n",
       "Country_of_Origin     8954\n",
       "Size                  6344\n",
       "ABV                   6359\n",
       "Amount                1358\n",
       "Sale_amount           1409\n",
       "Discount_amount      11560\n",
       "Profit                1372\n",
       "dtype: int64"
      ]
     },
     "execution_count": 18,
     "metadata": {},
     "output_type": "execute_result"
    }
   ],
   "source": [
    "# check for missing values\n",
    "products_merged.isnull().sum()"
   ]
  },
  {
   "cell_type": "markdown",
   "id": "3d179872-8f0c-4004-b914-639f6dbc215c",
   "metadata": {},
   "source": [
    "Because I used an outer join on two different sized datasets there is a large amount of missing data. However, none of this data is able to be imputed and I don't want to remove the columns. To manage this missing data I will create flags for the missing data."
   ]
  },
  {
   "cell_type": "code",
   "execution_count": 19,
   "id": "3de9bb65-c2e5-45ff-adee-55fdb6462a21",
   "metadata": {},
   "outputs": [
    {
     "name": "stdout",
     "output_type": "stream",
     "text": [
      "       Product_code Vendor_code  \\\n",
      "0              5028         NaN   \n",
      "1              5028         NaN   \n",
      "2              5028         NaN   \n",
      "3              4846         NaN   \n",
      "4              4846         NaN   \n",
      "...             ...         ...   \n",
      "51437          4724         NaN   \n",
      "51438          4724         NaN   \n",
      "51439          4724         NaN   \n",
      "51440           822     Bakunin   \n",
      "51441          1682         NaN   \n",
      "\n",
      "                                                    Name  Retail_price  \\\n",
      "0                               1 Symbiotica Apple 0.375         300.0   \n",
      "1                               1 Symbiotica Apple 0.375         300.0   \n",
      "2                               1 Symbiotica Apple 0.375         300.0   \n",
      "3        1 Symbiotica Hard Kombucha Renegade Aronia 0.33         200.0   \n",
      "4        1 Symbiotica Hard Kombucha Renegade Aronia 0.33         200.0   \n",
      "...                                                  ...           ...   \n",
      "51437                  Semjuel Adams Boston Lager Barrel         720.0   \n",
      "51438                  Semjuel Adams Boston Lager Barrel         720.0   \n",
      "51439                  Semjuel Adams Boston Lager Barrel         720.0   \n",
      "51440                                Bakunin Urban Juice         600.0   \n",
      "51441  Hazeljuteli Shoktabulous Barrel l temnoe fil't...         880.0   \n",
      "\n",
      "      Base_unit Country_of_Origin   Size  ABV  Amount  Sale_amount  \\\n",
      "0        Pieces            Russia  0.375  4.5    2.00       420.00   \n",
      "1        Pieces            Russia  0.375  4.5    4.00       960.00   \n",
      "2        Pieces            Russia  0.375  4.5    5.00      1440.00   \n",
      "3        Pieces            Russia  0.330  3.0    4.00       412.23   \n",
      "4        Pieces            Russia  0.330  3.0    2.00       360.00   \n",
      "...         ...               ...    ...  ...     ...          ...   \n",
      "51437    Liters               NaN  1.000  4.8   10.25      7040.55   \n",
      "51438    Liters               NaN  1.000  4.8   13.25      8854.37   \n",
      "51439    Liters               NaN  1.000  4.8    1.00       664.91   \n",
      "51440    Liters            Russia  1.000  7.2     NaN          NaN   \n",
      "51441    Liters               NaN  1.000  5.7     NaN          NaN   \n",
      "\n",
      "       Discount_amount   Profit  \n",
      "0               180.00   140.00  \n",
      "1               240.00   400.00  \n",
      "2                60.00   740.00  \n",
      "3               277.77    52.23  \n",
      "4                40.00   180.00  \n",
      "...                ...      ...  \n",
      "51437           339.45  3637.55  \n",
      "51438           685.63  4455.37  \n",
      "51439            55.09   332.91  \n",
      "51440              NaN      NaN  \n",
      "51441              NaN      NaN  \n",
      "\n",
      "[51442 rows x 12 columns]\n"
     ]
    }
   ],
   "source": [
    "# use NaN to fill all blank spaces, the data can't be imputed and there is too much to remove the unfinished columns\n",
    "print(products_merged.replace(r'^\\s*$', np.nan, regex=True))"
   ]
  },
  {
   "cell_type": "code",
   "execution_count": 20,
   "id": "ffaaa6a9-24e5-4725-909e-5d358198e071",
   "metadata": {},
   "outputs": [],
   "source": [
    "# missing variable flags\n",
    "products_merged.loc[products_merged['Retail_price'] == 'NaN', 'Missing_price'] = 'Missing'"
   ]
  },
  {
   "cell_type": "code",
   "execution_count": 21,
   "id": "70c011c8-29e6-4eff-b22c-962f2cb5053d",
   "metadata": {},
   "outputs": [],
   "source": [
    "products_merged.loc[products_merged['Vendor_code'] == 'NaN', 'Missing_vendor'] = 'Missing'"
   ]
  },
  {
   "cell_type": "code",
   "execution_count": 22,
   "id": "b81f2a9a-d75d-4938-a856-55802f884887",
   "metadata": {},
   "outputs": [],
   "source": [
    "products_merged.loc[products_merged['Base_unit'] == 'NaN', 'Missing_unit'] = 'Missing'"
   ]
  },
  {
   "cell_type": "code",
   "execution_count": 23,
   "id": "334e9f69-dcd7-47eb-a3ca-3a67b25d73ee",
   "metadata": {},
   "outputs": [],
   "source": [
    "products_merged.loc[products_merged['Country_of_Origin'] == 'NaN', 'Missing_country'] = 'Missing'"
   ]
  },
  {
   "cell_type": "code",
   "execution_count": 24,
   "id": "8cfa509e-2b21-4841-965d-ba8caed5eba2",
   "metadata": {},
   "outputs": [],
   "source": [
    "products_merged.loc[products_merged['Size'] == 'NaN', 'Missing_size'] = 'Missing'"
   ]
  },
  {
   "cell_type": "code",
   "execution_count": 25,
   "id": "d33acf28-b580-4691-b457-e6e50a9baa00",
   "metadata": {},
   "outputs": [],
   "source": [
    "products_merged.loc[products_merged['ABV'] == 'NaN', 'Missing_ABV'] = 'Missing'"
   ]
  },
  {
   "cell_type": "code",
   "execution_count": 26,
   "id": "b6705929-e4ea-4818-9034-25b5e38cdf30",
   "metadata": {},
   "outputs": [],
   "source": [
    "products_merged.loc[products_merged['Amount'] == 'NaN', 'Missing_amount'] = 'Missing'"
   ]
  },
  {
   "cell_type": "code",
   "execution_count": 27,
   "id": "3ebc17ee-8cdd-4ccb-aa59-1116b3cee1dd",
   "metadata": {},
   "outputs": [],
   "source": [
    "products_merged.loc[products_merged['Sale_amount'] == 'NaN', 'Missing_sale'] = 'Missing'"
   ]
  },
  {
   "cell_type": "code",
   "execution_count": 28,
   "id": "804ae030-efa2-48fb-a1d1-ecb1dbf6bc2c",
   "metadata": {},
   "outputs": [],
   "source": [
    "products_merged.loc[products_merged['Discount_amount'] == 'NaN', 'Missing_discount'] = 'Missing'"
   ]
  },
  {
   "cell_type": "code",
   "execution_count": 29,
   "id": "56116e49-0fba-4163-8bc4-c1d4a4e80684",
   "metadata": {},
   "outputs": [],
   "source": [
    "products_merged.loc[products_merged['Profit'] == 'NaN', 'Missing_profit'] = 'Missing'"
   ]
  },
  {
   "cell_type": "code",
   "execution_count": 30,
   "id": "ab46d430-3129-48c8-929a-0b14382b2a63",
   "metadata": {},
   "outputs": [
    {
     "data": {
      "text/html": [
       "<div>\n",
       "<style scoped>\n",
       "    .dataframe tbody tr th:only-of-type {\n",
       "        vertical-align: middle;\n",
       "    }\n",
       "\n",
       "    .dataframe tbody tr th {\n",
       "        vertical-align: top;\n",
       "    }\n",
       "\n",
       "    .dataframe thead th {\n",
       "        text-align: right;\n",
       "    }\n",
       "</style>\n",
       "<table border=\"1\" class=\"dataframe\">\n",
       "  <thead>\n",
       "    <tr style=\"text-align: right;\">\n",
       "      <th></th>\n",
       "      <th>Product_code</th>\n",
       "      <th>Vendor_code</th>\n",
       "      <th>Name</th>\n",
       "      <th>Retail_price</th>\n",
       "      <th>Base_unit</th>\n",
       "      <th>Country_of_Origin</th>\n",
       "      <th>Size</th>\n",
       "      <th>ABV</th>\n",
       "      <th>Amount</th>\n",
       "      <th>Sale_amount</th>\n",
       "      <th>...</th>\n",
       "      <th>Missing_price</th>\n",
       "      <th>Missing_vendor</th>\n",
       "      <th>Missing_unit</th>\n",
       "      <th>Missing_country</th>\n",
       "      <th>Missing_size</th>\n",
       "      <th>Missing_ABV</th>\n",
       "      <th>Missing_amount</th>\n",
       "      <th>Missing_sale</th>\n",
       "      <th>Missing_discount</th>\n",
       "      <th>Missing_profit</th>\n",
       "    </tr>\n",
       "  </thead>\n",
       "  <tbody>\n",
       "    <tr>\n",
       "      <th>0</th>\n",
       "      <td>5028</td>\n",
       "      <td>NaN</td>\n",
       "      <td>1 Symbiotica Apple 0.375</td>\n",
       "      <td>300.0</td>\n",
       "      <td>Pieces</td>\n",
       "      <td>Russia</td>\n",
       "      <td>0.375</td>\n",
       "      <td>4.5</td>\n",
       "      <td>2.0</td>\n",
       "      <td>420.00</td>\n",
       "      <td>...</td>\n",
       "      <td>NaN</td>\n",
       "      <td>NaN</td>\n",
       "      <td>NaN</td>\n",
       "      <td>NaN</td>\n",
       "      <td>NaN</td>\n",
       "      <td>NaN</td>\n",
       "      <td>NaN</td>\n",
       "      <td>NaN</td>\n",
       "      <td>NaN</td>\n",
       "      <td>NaN</td>\n",
       "    </tr>\n",
       "    <tr>\n",
       "      <th>1</th>\n",
       "      <td>5028</td>\n",
       "      <td>NaN</td>\n",
       "      <td>1 Symbiotica Apple 0.375</td>\n",
       "      <td>300.0</td>\n",
       "      <td>Pieces</td>\n",
       "      <td>Russia</td>\n",
       "      <td>0.375</td>\n",
       "      <td>4.5</td>\n",
       "      <td>4.0</td>\n",
       "      <td>960.00</td>\n",
       "      <td>...</td>\n",
       "      <td>NaN</td>\n",
       "      <td>NaN</td>\n",
       "      <td>NaN</td>\n",
       "      <td>NaN</td>\n",
       "      <td>NaN</td>\n",
       "      <td>NaN</td>\n",
       "      <td>NaN</td>\n",
       "      <td>NaN</td>\n",
       "      <td>NaN</td>\n",
       "      <td>NaN</td>\n",
       "    </tr>\n",
       "    <tr>\n",
       "      <th>2</th>\n",
       "      <td>5028</td>\n",
       "      <td>NaN</td>\n",
       "      <td>1 Symbiotica Apple 0.375</td>\n",
       "      <td>300.0</td>\n",
       "      <td>Pieces</td>\n",
       "      <td>Russia</td>\n",
       "      <td>0.375</td>\n",
       "      <td>4.5</td>\n",
       "      <td>5.0</td>\n",
       "      <td>1440.00</td>\n",
       "      <td>...</td>\n",
       "      <td>NaN</td>\n",
       "      <td>NaN</td>\n",
       "      <td>NaN</td>\n",
       "      <td>NaN</td>\n",
       "      <td>NaN</td>\n",
       "      <td>NaN</td>\n",
       "      <td>NaN</td>\n",
       "      <td>NaN</td>\n",
       "      <td>NaN</td>\n",
       "      <td>NaN</td>\n",
       "    </tr>\n",
       "    <tr>\n",
       "      <th>3</th>\n",
       "      <td>4846</td>\n",
       "      <td>NaN</td>\n",
       "      <td>1 Symbiotica Hard Kombucha Renegade Aronia 0.33</td>\n",
       "      <td>200.0</td>\n",
       "      <td>Pieces</td>\n",
       "      <td>Russia</td>\n",
       "      <td>0.330</td>\n",
       "      <td>3.0</td>\n",
       "      <td>4.0</td>\n",
       "      <td>412.23</td>\n",
       "      <td>...</td>\n",
       "      <td>NaN</td>\n",
       "      <td>NaN</td>\n",
       "      <td>NaN</td>\n",
       "      <td>NaN</td>\n",
       "      <td>NaN</td>\n",
       "      <td>NaN</td>\n",
       "      <td>NaN</td>\n",
       "      <td>NaN</td>\n",
       "      <td>NaN</td>\n",
       "      <td>NaN</td>\n",
       "    </tr>\n",
       "    <tr>\n",
       "      <th>4</th>\n",
       "      <td>4846</td>\n",
       "      <td>NaN</td>\n",
       "      <td>1 Symbiotica Hard Kombucha Renegade Aronia 0.33</td>\n",
       "      <td>200.0</td>\n",
       "      <td>Pieces</td>\n",
       "      <td>Russia</td>\n",
       "      <td>0.330</td>\n",
       "      <td>3.0</td>\n",
       "      <td>2.0</td>\n",
       "      <td>360.00</td>\n",
       "      <td>...</td>\n",
       "      <td>NaN</td>\n",
       "      <td>NaN</td>\n",
       "      <td>NaN</td>\n",
       "      <td>NaN</td>\n",
       "      <td>NaN</td>\n",
       "      <td>NaN</td>\n",
       "      <td>NaN</td>\n",
       "      <td>NaN</td>\n",
       "      <td>NaN</td>\n",
       "      <td>NaN</td>\n",
       "    </tr>\n",
       "  </tbody>\n",
       "</table>\n",
       "<p>5 rows × 22 columns</p>\n",
       "</div>"
      ],
      "text/plain": [
       "   Product_code Vendor_code                                             Name  \\\n",
       "0          5028         NaN                         1 Symbiotica Apple 0.375   \n",
       "1          5028         NaN                         1 Symbiotica Apple 0.375   \n",
       "2          5028         NaN                         1 Symbiotica Apple 0.375   \n",
       "3          4846         NaN  1 Symbiotica Hard Kombucha Renegade Aronia 0.33   \n",
       "4          4846         NaN  1 Symbiotica Hard Kombucha Renegade Aronia 0.33   \n",
       "\n",
       "   Retail_price Base_unit Country_of_Origin   Size  ABV  Amount  Sale_amount  \\\n",
       "0         300.0    Pieces            Russia  0.375  4.5     2.0       420.00   \n",
       "1         300.0    Pieces            Russia  0.375  4.5     4.0       960.00   \n",
       "2         300.0    Pieces            Russia  0.375  4.5     5.0      1440.00   \n",
       "3         200.0    Pieces            Russia  0.330  3.0     4.0       412.23   \n",
       "4         200.0    Pieces            Russia  0.330  3.0     2.0       360.00   \n",
       "\n",
       "   ...  Missing_price  Missing_vendor Missing_unit Missing_country  \\\n",
       "0  ...            NaN             NaN          NaN             NaN   \n",
       "1  ...            NaN             NaN          NaN             NaN   \n",
       "2  ...            NaN             NaN          NaN             NaN   \n",
       "3  ...            NaN             NaN          NaN             NaN   \n",
       "4  ...            NaN             NaN          NaN             NaN   \n",
       "\n",
       "  Missing_size Missing_ABV Missing_amount Missing_sale Missing_discount  \\\n",
       "0          NaN         NaN            NaN          NaN              NaN   \n",
       "1          NaN         NaN            NaN          NaN              NaN   \n",
       "2          NaN         NaN            NaN          NaN              NaN   \n",
       "3          NaN         NaN            NaN          NaN              NaN   \n",
       "4          NaN         NaN            NaN          NaN              NaN   \n",
       "\n",
       "  Missing_profit  \n",
       "0            NaN  \n",
       "1            NaN  \n",
       "2            NaN  \n",
       "3            NaN  \n",
       "4            NaN  \n",
       "\n",
       "[5 rows x 22 columns]"
      ]
     },
     "execution_count": 30,
     "metadata": {},
     "output_type": "execute_result"
    }
   ],
   "source": [
    "products_merged.head()"
   ]
  },
  {
   "cell_type": "code",
   "execution_count": 33,
   "id": "dedf524a-1860-4dd1-9741-a8472345d38e",
   "metadata": {},
   "outputs": [
    {
     "data": {
      "text/plain": [
       "(51442, 22)"
      ]
     },
     "execution_count": 33,
     "metadata": {},
     "output_type": "execute_result"
    }
   ],
   "source": [
    "products_merged.shape"
   ]
  },
  {
   "cell_type": "markdown",
   "id": "857f00e5-00bd-475c-98f6-63a4e06189d5",
   "metadata": {},
   "source": [
    "### Duplicate Data"
   ]
  },
  {
   "cell_type": "code",
   "execution_count": 31,
   "id": "535f4c61-38af-4fcc-8cad-718a403595f7",
   "metadata": {},
   "outputs": [],
   "source": [
    "# check for duplicate data\n",
    "prod_no_dups = products_merged.drop_duplicates()"
   ]
  },
  {
   "cell_type": "code",
   "execution_count": 32,
   "id": "3a546a84-3d53-40c0-9070-562089bd5c4f",
   "metadata": {},
   "outputs": [
    {
     "data": {
      "text/plain": [
       "(43657, 22)"
      ]
     },
     "execution_count": 32,
     "metadata": {},
     "output_type": "execute_result"
    }
   ],
   "source": [
    "prod_no_dups.shape"
   ]
  },
  {
   "cell_type": "markdown",
   "id": "3881746b-31f4-4cff-9fd5-78c5095a0bd9",
   "metadata": {},
   "source": [
    "There is duplicate data in this dataset, however the data is most likely related to vendors, pricing, ABV, and countries being the same. Because this data could be the same duplicates are allowed and I won't remove them. "
   ]
  },
  {
   "cell_type": "markdown",
   "id": "da2f63ae-d210-4386-9a18-6f0ea0811bd6",
   "metadata": {},
   "source": [
    "### Unexpected/Outlier Data"
   ]
  },
  {
   "cell_type": "code",
   "execution_count": 35,
   "id": "ecc408aa-6154-4a84-904a-d35efdde8696",
   "metadata": {},
   "outputs": [
    {
     "data": {
      "text/html": [
       "<div>\n",
       "<style scoped>\n",
       "    .dataframe tbody tr th:only-of-type {\n",
       "        vertical-align: middle;\n",
       "    }\n",
       "\n",
       "    .dataframe tbody tr th {\n",
       "        vertical-align: top;\n",
       "    }\n",
       "\n",
       "    .dataframe thead th {\n",
       "        text-align: right;\n",
       "    }\n",
       "</style>\n",
       "<table border=\"1\" class=\"dataframe\">\n",
       "  <thead>\n",
       "    <tr style=\"text-align: right;\">\n",
       "      <th></th>\n",
       "      <th>Product_code</th>\n",
       "      <th>Retail_price</th>\n",
       "      <th>Size</th>\n",
       "      <th>ABV</th>\n",
       "      <th>Amount</th>\n",
       "      <th>Sale_amount</th>\n",
       "      <th>Discount_amount</th>\n",
       "      <th>Profit</th>\n",
       "    </tr>\n",
       "  </thead>\n",
       "  <tbody>\n",
       "    <tr>\n",
       "      <th>count</th>\n",
       "      <td>51442.000000</td>\n",
       "      <td>51005.000000</td>\n",
       "      <td>45098.000000</td>\n",
       "      <td>45083.000000</td>\n",
       "      <td>50084.000000</td>\n",
       "      <td>50033.000000</td>\n",
       "      <td>39882.000000</td>\n",
       "      <td>50070.000000</td>\n",
       "    </tr>\n",
       "    <tr>\n",
       "      <th>mean</th>\n",
       "      <td>2134.277439</td>\n",
       "      <td>511.448376</td>\n",
       "      <td>0.629859</td>\n",
       "      <td>6.626747</td>\n",
       "      <td>3.553146</td>\n",
       "      <td>1429.786677</td>\n",
       "      <td>243.761323</td>\n",
       "      <td>705.901987</td>\n",
       "    </tr>\n",
       "    <tr>\n",
       "      <th>std</th>\n",
       "      <td>1373.951228</td>\n",
       "      <td>348.718801</td>\n",
       "      <td>0.890891</td>\n",
       "      <td>2.153972</td>\n",
       "      <td>5.485805</td>\n",
       "      <td>2419.585455</td>\n",
       "      <td>405.902060</td>\n",
       "      <td>1352.628611</td>\n",
       "    </tr>\n",
       "    <tr>\n",
       "      <th>min</th>\n",
       "      <td>2.000000</td>\n",
       "      <td>1.000000</td>\n",
       "      <td>0.150000</td>\n",
       "      <td>0.500000</td>\n",
       "      <td>0.033000</td>\n",
       "      <td>0.410000</td>\n",
       "      <td>0.010000</td>\n",
       "      <td>-9300.630000</td>\n",
       "    </tr>\n",
       "    <tr>\n",
       "      <th>25%</th>\n",
       "      <td>895.000000</td>\n",
       "      <td>300.000000</td>\n",
       "      <td>0.330000</td>\n",
       "      <td>5.100000</td>\n",
       "      <td>1.000000</td>\n",
       "      <td>330.000000</td>\n",
       "      <td>60.000000</td>\n",
       "      <td>143.070000</td>\n",
       "    </tr>\n",
       "    <tr>\n",
       "      <th>50%</th>\n",
       "      <td>2091.000000</td>\n",
       "      <td>380.000000</td>\n",
       "      <td>0.500000</td>\n",
       "      <td>6.000000</td>\n",
       "      <td>2.000000</td>\n",
       "      <td>630.000000</td>\n",
       "      <td>121.760000</td>\n",
       "      <td>283.000000</td>\n",
       "    </tr>\n",
       "    <tr>\n",
       "      <th>75%</th>\n",
       "      <td>3055.000000</td>\n",
       "      <td>620.000000</td>\n",
       "      <td>1.000000</td>\n",
       "      <td>8.000000</td>\n",
       "      <td>4.000000</td>\n",
       "      <td>1436.130000</td>\n",
       "      <td>270.615000</td>\n",
       "      <td>687.015000</td>\n",
       "    </tr>\n",
       "    <tr>\n",
       "      <th>max</th>\n",
       "      <td>5358.000000</td>\n",
       "      <td>8484.850000</td>\n",
       "      <td>30.000000</td>\n",
       "      <td>21.000000</td>\n",
       "      <td>248.000000</td>\n",
       "      <td>58184.070000</td>\n",
       "      <td>20440.630000</td>\n",
       "      <td>33352.460000</td>\n",
       "    </tr>\n",
       "  </tbody>\n",
       "</table>\n",
       "</div>"
      ],
      "text/plain": [
       "       Product_code  Retail_price          Size           ABV        Amount  \\\n",
       "count  51442.000000  51005.000000  45098.000000  45083.000000  50084.000000   \n",
       "mean    2134.277439    511.448376      0.629859      6.626747      3.553146   \n",
       "std     1373.951228    348.718801      0.890891      2.153972      5.485805   \n",
       "min        2.000000      1.000000      0.150000      0.500000      0.033000   \n",
       "25%      895.000000    300.000000      0.330000      5.100000      1.000000   \n",
       "50%     2091.000000    380.000000      0.500000      6.000000      2.000000   \n",
       "75%     3055.000000    620.000000      1.000000      8.000000      4.000000   \n",
       "max     5358.000000   8484.850000     30.000000     21.000000    248.000000   \n",
       "\n",
       "        Sale_amount  Discount_amount        Profit  \n",
       "count  50033.000000     39882.000000  50070.000000  \n",
       "mean    1429.786677       243.761323    705.901987  \n",
       "std     2419.585455       405.902060   1352.628611  \n",
       "min        0.410000         0.010000  -9300.630000  \n",
       "25%      330.000000        60.000000    143.070000  \n",
       "50%      630.000000       121.760000    283.000000  \n",
       "75%     1436.130000       270.615000    687.015000  \n",
       "max    58184.070000     20440.630000  33352.460000  "
      ]
     },
     "execution_count": 35,
     "metadata": {},
     "output_type": "execute_result"
    }
   ],
   "source": [
    "products_merged.describe()"
   ]
  },
  {
   "cell_type": "markdown",
   "id": "cdf34917-3914-45e2-87ce-f8512e110357",
   "metadata": {},
   "source": [
    "There are outliers in the columns max retail price, size, and abv. Although these values seem quite large the assumption is that they are outliers as a large beer with high ABV would cost a lot. Additionally, that could be a keg size which would run more expensive than a smaller portion of beer. Because these numbers appear to only be outliers the values can remain. "
   ]
  },
  {
   "cell_type": "markdown",
   "id": "469d5662-df71-47b0-8973-dd63d12a32a5",
   "metadata": {},
   "source": [
    "### Export Data"
   ]
  },
  {
   "cell_type": "code",
   "execution_count": 36,
   "id": "cd53538b-0286-4777-9ebf-fdb3e8e3c3f1",
   "metadata": {},
   "outputs": [],
   "source": [
    "products_merged.to_csv(os.path.join(path, '02 Data', 'Prepared Data', 'clean_products_merged.csv'))"
   ]
  },
  {
   "cell_type": "code",
   "execution_count": null,
   "id": "cbc062e2-5b72-4036-9f7f-53850c9b40d9",
   "metadata": {},
   "outputs": [],
   "source": []
  }
 ],
 "metadata": {
  "kernelspec": {
   "display_name": "Python 3 (ipykernel)",
   "language": "python",
   "name": "python3"
  },
  "language_info": {
   "codemirror_mode": {
    "name": "ipython",
    "version": 3
   },
   "file_extension": ".py",
   "mimetype": "text/x-python",
   "name": "python",
   "nbconvert_exporter": "python",
   "pygments_lexer": "ipython3",
   "version": "3.10.9"
  }
 },
 "nbformat": 4,
 "nbformat_minor": 5
}
